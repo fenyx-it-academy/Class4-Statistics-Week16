{
 "cells": [
  {
   "cell_type": "markdown",
   "metadata": {},
   "source": [
    "# Class4-Statistics-Week16\n",
    "\n",
    "Titanic Data Setinde ;\n",
    "\n",
    "1) Cinsiyetleregore yolcu sayisini gormek icin hangi tur grafigi secersiniz?\n",
    "\n",
    "Bar Graph\n",
    "\n",
    "2) Binis limanina gore yolcu yuzdelerini gormek icin hangi grafik turlerini secersiniz?\n",
    "\n",
    "Pie Chart\n",
    "\n",
    "3) Yas-cinsiyet grafiginde yas icin outlier lari gormek isterseniz hangi grafik turunu secersiniz?\n",
    "Box-Plot\n",
    "\n",
    "https://www.kaggle.com/esratepebasi/notebookdac99e35a7\n",
    "\n",
    "copy and edit yaparak kodlari calistiriniz.\n",
    "\n",
    "4) Grafik 1 de degisiklikler yaparak sizde farkli pie chart lar deneyiniz.\n",
    "(erkek cocuk-kiz cocuk yolcularin grafigi,vb.)\n",
    "\n",
    "5) Grafik 2 nin kodlarindan yararlanarak pie chart ile gosterdiginiz grafikleri bar charta donusturunuz.\n",
    "\n",
    "6) Grafik 3,4 hangi grafik turune ornektir? Baska hangi titanic datasi degiskenleri icin bu grafik turunu kullanabiliriz,yorum yapiniz.\n",
    "\n",
    "7) Grafik 5 hangi grafik turune ornektir?\n",
    "\n",
    "8) Grafik 6 ya gore ucret ile hayatta kalma arasindaki korelasyon kactir?"
   ]
  },
  {
   "cell_type": "markdown",
   "metadata": {},
   "source": []
  },
  {
   "cell_type": "code",
   "execution_count": null,
   "metadata": {},
   "outputs": [],
   "source": []
  }
 ],
 "metadata": {
  "kernelspec": {
   "display_name": "Python 3",
   "language": "python",
   "name": "python3"
  },
  "language_info": {
   "codemirror_mode": {
    "name": "ipython",
    "version": 3
   },
   "file_extension": ".py",
   "mimetype": "text/x-python",
   "name": "python",
   "nbconvert_exporter": "python",
   "pygments_lexer": "ipython3",
   "version": "3.8.5"
  }
 },
 "nbformat": 4,
 "nbformat_minor": 4
}
