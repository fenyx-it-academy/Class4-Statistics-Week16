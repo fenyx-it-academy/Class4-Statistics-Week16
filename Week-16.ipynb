{
  "nbformat": 4,
  "nbformat_minor": 0,
  "metadata": {
    "colab": {
      "name": "Untitled1.ipynb",
      "provenance": [],
      "collapsed_sections": []
    },
    "kernelspec": {
      "name": "python3",
      "display_name": "Python 3"
    },
    "language_info": {
      "name": "python"
    }
  },
  "cells": [
    {
      "cell_type": "code",
      "metadata": {
        "id": "6G5Q_CuDfSlT"
      },
      "source": [
        "###Cinsiyetleregore yolcu sayisini gormek icin hangi tur grafigi secersiniz?\n",
        "#Bar Chart\n",
        "###Binis limanina gore yolcu yuzdelerini gormek icin hangi grafik turlerini secersiniz?\n",
        "# Pie Chart\n",
        "###Yas-cinsiyet grafiginde yas icin outlier lari gormek isterseniz hangi grafik turunu secersiniz?\n",
        "#Box Plot"
      ],
      "execution_count": 2,
      "outputs": []
    },
    {
      "cell_type": "code",
      "metadata": {
        "id": "R6h8FnqbgP21"
      },
      "source": [
        "import pandas as pd\n",
        "import numpy as np\n",
        "import seaborn as sns\n",
        "import matplotlib.pyplot as plt"
      ],
      "execution_count": 3,
      "outputs": []
    },
    {
      "cell_type": "code",
      "metadata": {
        "id": "5aUUrWX1XK1V",
        "colab": {
          "base_uri": "https://localhost:8080/",
          "height": 419
        },
        "outputId": "42404708-e208-4993-a7a3-8b3a88f7b118"
      },
      "source": [
        "titanic=sns.load_dataset(\"titanic\")\n",
        "titanic"
      ],
      "execution_count": 4,
      "outputs": [
        {
          "output_type": "execute_result",
          "data": {
            "text/html": [
              "<div>\n",
              "<style scoped>\n",
              "    .dataframe tbody tr th:only-of-type {\n",
              "        vertical-align: middle;\n",
              "    }\n",
              "\n",
              "    .dataframe tbody tr th {\n",
              "        vertical-align: top;\n",
              "    }\n",
              "\n",
              "    .dataframe thead th {\n",
              "        text-align: right;\n",
              "    }\n",
              "</style>\n",
              "<table border=\"1\" class=\"dataframe\">\n",
              "  <thead>\n",
              "    <tr style=\"text-align: right;\">\n",
              "      <th></th>\n",
              "      <th>survived</th>\n",
              "      <th>pclass</th>\n",
              "      <th>sex</th>\n",
              "      <th>age</th>\n",
              "      <th>sibsp</th>\n",
              "      <th>parch</th>\n",
              "      <th>fare</th>\n",
              "      <th>embarked</th>\n",
              "      <th>class</th>\n",
              "      <th>who</th>\n",
              "      <th>adult_male</th>\n",
              "      <th>deck</th>\n",
              "      <th>embark_town</th>\n",
              "      <th>alive</th>\n",
              "      <th>alone</th>\n",
              "    </tr>\n",
              "  </thead>\n",
              "  <tbody>\n",
              "    <tr>\n",
              "      <th>0</th>\n",
              "      <td>0</td>\n",
              "      <td>3</td>\n",
              "      <td>male</td>\n",
              "      <td>22.0</td>\n",
              "      <td>1</td>\n",
              "      <td>0</td>\n",
              "      <td>7.2500</td>\n",
              "      <td>S</td>\n",
              "      <td>Third</td>\n",
              "      <td>man</td>\n",
              "      <td>True</td>\n",
              "      <td>NaN</td>\n",
              "      <td>Southampton</td>\n",
              "      <td>no</td>\n",
              "      <td>False</td>\n",
              "    </tr>\n",
              "    <tr>\n",
              "      <th>1</th>\n",
              "      <td>1</td>\n",
              "      <td>1</td>\n",
              "      <td>female</td>\n",
              "      <td>38.0</td>\n",
              "      <td>1</td>\n",
              "      <td>0</td>\n",
              "      <td>71.2833</td>\n",
              "      <td>C</td>\n",
              "      <td>First</td>\n",
              "      <td>woman</td>\n",
              "      <td>False</td>\n",
              "      <td>C</td>\n",
              "      <td>Cherbourg</td>\n",
              "      <td>yes</td>\n",
              "      <td>False</td>\n",
              "    </tr>\n",
              "    <tr>\n",
              "      <th>2</th>\n",
              "      <td>1</td>\n",
              "      <td>3</td>\n",
              "      <td>female</td>\n",
              "      <td>26.0</td>\n",
              "      <td>0</td>\n",
              "      <td>0</td>\n",
              "      <td>7.9250</td>\n",
              "      <td>S</td>\n",
              "      <td>Third</td>\n",
              "      <td>woman</td>\n",
              "      <td>False</td>\n",
              "      <td>NaN</td>\n",
              "      <td>Southampton</td>\n",
              "      <td>yes</td>\n",
              "      <td>True</td>\n",
              "    </tr>\n",
              "    <tr>\n",
              "      <th>3</th>\n",
              "      <td>1</td>\n",
              "      <td>1</td>\n",
              "      <td>female</td>\n",
              "      <td>35.0</td>\n",
              "      <td>1</td>\n",
              "      <td>0</td>\n",
              "      <td>53.1000</td>\n",
              "      <td>S</td>\n",
              "      <td>First</td>\n",
              "      <td>woman</td>\n",
              "      <td>False</td>\n",
              "      <td>C</td>\n",
              "      <td>Southampton</td>\n",
              "      <td>yes</td>\n",
              "      <td>False</td>\n",
              "    </tr>\n",
              "    <tr>\n",
              "      <th>4</th>\n",
              "      <td>0</td>\n",
              "      <td>3</td>\n",
              "      <td>male</td>\n",
              "      <td>35.0</td>\n",
              "      <td>0</td>\n",
              "      <td>0</td>\n",
              "      <td>8.0500</td>\n",
              "      <td>S</td>\n",
              "      <td>Third</td>\n",
              "      <td>man</td>\n",
              "      <td>True</td>\n",
              "      <td>NaN</td>\n",
              "      <td>Southampton</td>\n",
              "      <td>no</td>\n",
              "      <td>True</td>\n",
              "    </tr>\n",
              "    <tr>\n",
              "      <th>...</th>\n",
              "      <td>...</td>\n",
              "      <td>...</td>\n",
              "      <td>...</td>\n",
              "      <td>...</td>\n",
              "      <td>...</td>\n",
              "      <td>...</td>\n",
              "      <td>...</td>\n",
              "      <td>...</td>\n",
              "      <td>...</td>\n",
              "      <td>...</td>\n",
              "      <td>...</td>\n",
              "      <td>...</td>\n",
              "      <td>...</td>\n",
              "      <td>...</td>\n",
              "      <td>...</td>\n",
              "    </tr>\n",
              "    <tr>\n",
              "      <th>886</th>\n",
              "      <td>0</td>\n",
              "      <td>2</td>\n",
              "      <td>male</td>\n",
              "      <td>27.0</td>\n",
              "      <td>0</td>\n",
              "      <td>0</td>\n",
              "      <td>13.0000</td>\n",
              "      <td>S</td>\n",
              "      <td>Second</td>\n",
              "      <td>man</td>\n",
              "      <td>True</td>\n",
              "      <td>NaN</td>\n",
              "      <td>Southampton</td>\n",
              "      <td>no</td>\n",
              "      <td>True</td>\n",
              "    </tr>\n",
              "    <tr>\n",
              "      <th>887</th>\n",
              "      <td>1</td>\n",
              "      <td>1</td>\n",
              "      <td>female</td>\n",
              "      <td>19.0</td>\n",
              "      <td>0</td>\n",
              "      <td>0</td>\n",
              "      <td>30.0000</td>\n",
              "      <td>S</td>\n",
              "      <td>First</td>\n",
              "      <td>woman</td>\n",
              "      <td>False</td>\n",
              "      <td>B</td>\n",
              "      <td>Southampton</td>\n",
              "      <td>yes</td>\n",
              "      <td>True</td>\n",
              "    </tr>\n",
              "    <tr>\n",
              "      <th>888</th>\n",
              "      <td>0</td>\n",
              "      <td>3</td>\n",
              "      <td>female</td>\n",
              "      <td>NaN</td>\n",
              "      <td>1</td>\n",
              "      <td>2</td>\n",
              "      <td>23.4500</td>\n",
              "      <td>S</td>\n",
              "      <td>Third</td>\n",
              "      <td>woman</td>\n",
              "      <td>False</td>\n",
              "      <td>NaN</td>\n",
              "      <td>Southampton</td>\n",
              "      <td>no</td>\n",
              "      <td>False</td>\n",
              "    </tr>\n",
              "    <tr>\n",
              "      <th>889</th>\n",
              "      <td>1</td>\n",
              "      <td>1</td>\n",
              "      <td>male</td>\n",
              "      <td>26.0</td>\n",
              "      <td>0</td>\n",
              "      <td>0</td>\n",
              "      <td>30.0000</td>\n",
              "      <td>C</td>\n",
              "      <td>First</td>\n",
              "      <td>man</td>\n",
              "      <td>True</td>\n",
              "      <td>C</td>\n",
              "      <td>Cherbourg</td>\n",
              "      <td>yes</td>\n",
              "      <td>True</td>\n",
              "    </tr>\n",
              "    <tr>\n",
              "      <th>890</th>\n",
              "      <td>0</td>\n",
              "      <td>3</td>\n",
              "      <td>male</td>\n",
              "      <td>32.0</td>\n",
              "      <td>0</td>\n",
              "      <td>0</td>\n",
              "      <td>7.7500</td>\n",
              "      <td>Q</td>\n",
              "      <td>Third</td>\n",
              "      <td>man</td>\n",
              "      <td>True</td>\n",
              "      <td>NaN</td>\n",
              "      <td>Queenstown</td>\n",
              "      <td>no</td>\n",
              "      <td>True</td>\n",
              "    </tr>\n",
              "  </tbody>\n",
              "</table>\n",
              "<p>891 rows × 15 columns</p>\n",
              "</div>"
            ],
            "text/plain": [
              "     survived  pclass     sex   age  ...  deck  embark_town  alive  alone\n",
              "0           0       3    male  22.0  ...   NaN  Southampton     no  False\n",
              "1           1       1  female  38.0  ...     C    Cherbourg    yes  False\n",
              "2           1       3  female  26.0  ...   NaN  Southampton    yes   True\n",
              "3           1       1  female  35.0  ...     C  Southampton    yes  False\n",
              "4           0       3    male  35.0  ...   NaN  Southampton     no   True\n",
              "..        ...     ...     ...   ...  ...   ...          ...    ...    ...\n",
              "886         0       2    male  27.0  ...   NaN  Southampton     no   True\n",
              "887         1       1  female  19.0  ...     B  Southampton    yes   True\n",
              "888         0       3  female   NaN  ...   NaN  Southampton     no  False\n",
              "889         1       1    male  26.0  ...     C    Cherbourg    yes   True\n",
              "890         0       3    male  32.0  ...   NaN   Queenstown     no   True\n",
              "\n",
              "[891 rows x 15 columns]"
            ]
          },
          "metadata": {
            "tags": []
          },
          "execution_count": 4
        }
      ]
    },
    {
      "cell_type": "code",
      "metadata": {
        "colab": {
          "base_uri": "https://localhost:8080/"
        },
        "id": "dehe0HfRsB3n",
        "outputId": "6868830c-9981-40f7-98f5-86b03c21052a"
      },
      "source": [
        "df =titanic.copy()\n",
        "print(df.head())"
      ],
      "execution_count": 5,
      "outputs": [
        {
          "output_type": "stream",
          "text": [
            "   survived  pclass     sex   age  ...  deck  embark_town  alive  alone\n",
            "0         0       3    male  22.0  ...   NaN  Southampton     no  False\n",
            "1         1       1  female  38.0  ...     C    Cherbourg    yes  False\n",
            "2         1       3  female  26.0  ...   NaN  Southampton    yes   True\n",
            "3         1       1  female  35.0  ...     C  Southampton    yes  False\n",
            "4         0       3    male  35.0  ...   NaN  Southampton     no   True\n",
            "\n",
            "[5 rows x 15 columns]\n"
          ],
          "name": "stdout"
        }
      ]
    },
    {
      "cell_type": "code",
      "metadata": {
        "colab": {
          "base_uri": "https://localhost:8080/"
        },
        "id": "b32ywNzKhtQf",
        "outputId": "f8605304-4e04-4dad-e237-ce02b96aa8e5"
      },
      "source": [
        "print(\"Number of male passengers: \", len(df.groupby('sex').groups['male']))\n",
        "print('Number of female passengers: ', len(df.groupby('sex').groups['female']))"
      ],
      "execution_count": 6,
      "outputs": [
        {
          "output_type": "stream",
          "text": [
            "Number of male passengers:  577\n",
            "Number of female passengers:  314\n"
          ],
          "name": "stdout"
        }
      ]
    },
    {
      "cell_type": "code",
      "metadata": {
        "id": "KaTlcQWKj0F6"
      },
      "source": [
        "male_passenger = df[df['sex']== 'male']\n",
        "female_passenger = df[df['sex']== 'female']"
      ],
      "execution_count": 7,
      "outputs": []
    },
    {
      "cell_type": "code",
      "metadata": {
        "id": "oCvkKGFIht9v"
      },
      "source": [
        "#Kid passengers' dataframe. I accepted under of 16 years old as kid.\n",
        "kid_passenger = df[df['age'] < 16]"
      ],
      "execution_count": 8,
      "outputs": []
    },
    {
      "cell_type": "code",
      "metadata": {
        "id": "fZmzD2rvjInH"
      },
      "source": [
        "male_kid_passenger = kid_passenger[kid_passenger['sex'] == 'male']\n",
        "female_kid_passenger = kid_passenger[kid_passenger['sex'] == 'female']"
      ],
      "execution_count": 9,
      "outputs": []
    },
    {
      "cell_type": "code",
      "metadata": {
        "id": "S7f9KUbWjI3e"
      },
      "source": [
        "#Creating adult male and female dataframes by dropping kid passengers\n",
        "adult_male_passenger = male_passenger.drop(male_kid_passenger.index[:])\n",
        "adult_female_passenger = female_passenger.drop(female_kid_passenger.index[:])"
      ],
      "execution_count": 10,
      "outputs": []
    },
    {
      "cell_type": "code",
      "metadata": {
        "colab": {
          "base_uri": "https://localhost:8080/"
        },
        "id": "RdNZF0KVkD5q",
        "outputId": "51e1b29b-c2d5-4e92-ae38-e21f9a4dae57"
      },
      "source": [
        "#Number of passengers according to sex and age\n",
        "print ('Number of all passengers:', len(df))\n",
        "print ('Number of male passengers:', len(male_passenger))\n",
        "print ('Number of female passengers:', len(female_passenger))\n",
        "print ('Number of adult male passengers:', len(adult_male_passenger))\n",
        "print ('Number of adult female passengers:', len(adult_female_passenger))\n",
        "print ('Number of kid passengers:', len(kid_passenger))"
      ],
      "execution_count": 11,
      "outputs": [
        {
          "output_type": "stream",
          "text": [
            "Number of all passengers: 891\n",
            "Number of male passengers: 577\n",
            "Number of female passengers: 314\n",
            "Number of adult male passengers: 537\n",
            "Number of adult female passengers: 271\n",
            "Number of kid passengers: 83\n"
          ],
          "name": "stdout"
        }
      ]
    },
    {
      "cell_type": "code",
      "metadata": {
        "colab": {
          "base_uri": "https://localhost:8080/",
          "height": 264
        },
        "id": "Qy0dgKdlkOsb",
        "outputId": "357018e7-a806-4702-c937-ffdc8cd0649f"
      },
      "source": [
        "#Visualization of percentages of passengers by sex on pie chart\n",
        "\n",
        "#GRAFIK 1\n",
        "\n",
        "x = [len(male_passenger), len(female_passenger)]\n",
        "label = ['Male', 'Female']\n",
        "plt.pie(x, labels = label, autopct = '%1.01f%%')\n",
        "plt.title('Distribution of passengers by sex')\n",
        "plt.show()"
      ],
      "execution_count": 12,
      "outputs": [
        {
          "output_type": "display_data",
          "data": {
            "image/png": "[encoded data removed]",
            "text/plain": [
              "<Figure size 432x288 with 1 Axes>"
            ]
          },
          "metadata": {
            "tags": []
          }
        }
      ]
    },
    {
      "cell_type": "code",
      "metadata": {
        "colab": {
          "base_uri": "https://localhost:8080/",
          "height": 264
        },
        "id": "2LPwhSy1kUuR",
        "outputId": "856cd051-7737-40e1-ac0c-32b95b067ff1"
      },
      "source": [
        "#Visualization of percentages of kid passengers by sex on pie chart\n",
        "\n",
        "#GRAFIK 1\n",
        "\n",
        "x = [len(male_kid_passenger), len(female_kid_passenger)]\n",
        "label = ['Male kid', 'Female kid']\n",
        "plt.pie(x, labels = label, autopct = '%1.01f%%')\n",
        "plt.title('Distribution of passengers by sex of kids')\n",
        "plt.show()"
      ],
      "execution_count": 13,
      "outputs": [
        {
          "output_type": "display_data",
          "data": {
            "image/png": "[encoded data removed]",
            "text/plain": [
              "<Figure size 432x288 with 1 Axes>"
            ]
          },
          "metadata": {
            "tags": []
          }
        }
      ]
    },
    {
      "cell_type": "code",
      "metadata": {
        "id": "JMeIGZ8Bky9R"
      },
      "source": [
        "###Grafik 2 nin kodlarindan yararlanarak pie chart ile gosterdiginiz grafikleri bar charta donusturunuz."
      ],
      "execution_count": 14,
      "outputs": []
    },
    {
      "cell_type": "code",
      "metadata": {
        "colab": {
          "base_uri": "https://localhost:8080/",
          "height": 279
        },
        "id": "ob2i47H1lGWc",
        "outputId": "c3eecc97-8b6a-4874-8256-d89e24874d79"
      },
      "source": [
        "\n",
        "#GRAFIK_2\n",
        "\n",
        "kid_passenger['sex'].value_counts().plot(kind='barh', color='green', figsize=[16,4])\n",
        "plt.xlabel('Number of kids acc. to their sex ')\n",
        "plt.ylabel('Sex of kids')\n",
        "plt.show()"
      ],
      "execution_count": 15,
      "outputs": [
        {
          "output_type": "display_data",
          "data": {
            "image/png": "[encoded data removed]",
            "text/plain": [
              "<Figure size 1152x288 with 1 Axes>"
            ]
          },
          "metadata": {
            "tags": [],
            "needs_background": "light"
          }
        }
      ]
    },
    {
      "cell_type": "code",
      "metadata": {
        "id": "2nkXWRnNv6Kr"
      },
      "source": [
        "###Grafik 3,4 hangi grafik turune ornektir? Baska hangi titanic datasi degiskenleri icin bu grafik turunu kullanabiliriz,yorum yapiniz.\n",
        "# Stacked Bar Chart\n",
        "# Visualization of embarked town by passenger class\n",
        "# Visualization of embarked town by sex"
      ],
      "execution_count": 16,
      "outputs": []
    },
    {
      "cell_type": "code",
      "metadata": {
        "id": "yEhY9lif1YJm"
      },
      "source": [
        "###Grafik 5 hangi grafik turune ornektir?\n",
        "#BOXPLOt\n",
        "###Grafik 6 ya gore ucret ile hayatta kalma arasindaki korelasyon kactir?"
      ],
      "execution_count": 17,
      "outputs": []
    },
    {
      "cell_type": "code",
      "metadata": {
        "colab": {
          "base_uri": "https://localhost:8080/",
          "height": 332
        },
        "id": "u0ujhSZacFEv",
        "outputId": "815ac69a-ca4f-47cc-a9cd-9cf229958db4"
      },
      "source": [
        "#GRAFIK 6\n",
        "\n",
        "corr = df.corr()\n",
        "sns.heatmap(corr, annot=True)"
      ],
      "execution_count": 22,
      "outputs": [
        {
          "output_type": "execute_result",
          "data": {
            "text/plain": [
              "<matplotlib.axes._subplots.AxesSubplot at 0x7f6dd7428c90>"
            ]
          },
          "metadata": {
            "tags": []
          },
          "execution_count": 22
        },
        {
          "output_type": "display_data",
          "data": {
            "image/png": "[encoded data removed]",
            "text/plain": [
              "<Figure size 432x288 with 2 Axes>"
            ]
          },
          "metadata": {
            "tags": [],
            "needs_background": "light"
          }
        }
      ]
    },
    {
      "cell_type": "code",
      "metadata": {
        "colab": {
          "base_uri": "https://localhost:8080/",
          "height": 111
        },
        "id": "tikt4PLncMYs",
        "outputId": "ac5705b9-7c8e-4abc-d3c3-f2d1ced80512"
      },
      "source": [
        "df[[\"survived\",\"fare\"]].corr()"
      ],
      "execution_count": 25,
      "outputs": [
        {
          "output_type": "execute_result",
          "data": {
            "text/html": [
              "<div>\n",
              "<style scoped>\n",
              "    .dataframe tbody tr th:only-of-type {\n",
              "        vertical-align: middle;\n",
              "    }\n",
              "\n",
              "    .dataframe tbody tr th {\n",
              "        vertical-align: top;\n",
              "    }\n",
              "\n",
              "    .dataframe thead th {\n",
              "        text-align: right;\n",
              "    }\n",
              "</style>\n",
              "<table border=\"1\" class=\"dataframe\">\n",
              "  <thead>\n",
              "    <tr style=\"text-align: right;\">\n",
              "      <th></th>\n",
              "      <th>survived</th>\n",
              "      <th>fare</th>\n",
              "    </tr>\n",
              "  </thead>\n",
              "  <tbody>\n",
              "    <tr>\n",
              "      <th>survived</th>\n",
              "      <td>1.000000</td>\n",
              "      <td>0.257307</td>\n",
              "    </tr>\n",
              "    <tr>\n",
              "      <th>fare</th>\n",
              "      <td>0.257307</td>\n",
              "      <td>1.000000</td>\n",
              "    </tr>\n",
              "  </tbody>\n",
              "</table>\n",
              "</div>"
            ],
            "text/plain": [
              "          survived      fare\n",
              "survived  1.000000  0.257307\n",
              "fare      0.257307  1.000000"
            ]
          },
          "metadata": {
            "tags": []
          },
          "execution_count": 25
        }
      ]
    }
  ]
}